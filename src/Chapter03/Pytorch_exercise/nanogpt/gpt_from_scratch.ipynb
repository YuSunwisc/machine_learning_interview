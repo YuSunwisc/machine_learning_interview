{
 "cells": [
  {
   "cell_type": "markdown",
   "id": "87f6fbc9-4eed-4a62-a998-248e273d66d8",
   "metadata": {},
   "source": [
    "# This entire notebook is a reimplementation of Andrej's YouTube\n",
    "[Let's build GPT: from scratch, in code, spelled out.](https://www.youtube.com/watch?v=kCc8FmEb1nY&list=PLAqhIrjkxbuWI23v9cThsA9GvCAUhRvKZ&index=8)"
   ]
  },
  {
   "cell_type": "markdown",
   "id": "cfe58c68-d180-4a9d-9daa-aa9cdc405a94",
   "metadata": {},
   "source": [
    "**bold text**## Building a GPT\n",
    "\n",
    "Companion notebook to the [Zero To Hero](https://karpathy.ai/zero-to-hero.html) video on GPT."
   ]
  },
  {
   "cell_type": "code",
   "execution_count": 1,
   "id": "475ee266-44cc-4933-8e98-05263da8e380",
   "metadata": {},
   "outputs": [
    {
     "name": "stdout",
     "output_type": "stream",
     "text": [
      "Test\n"
     ]
    }
   ],
   "source": [
    "print('Test')"
   ]
  },
  {
   "cell_type": "code",
   "execution_count": 2,
   "id": "e292f4b8-865a-45bc-8596-dbc1e2124a4d",
   "metadata": {
    "scrolled": true
   },
   "outputs": [
    {
     "name": "stdout",
     "output_type": "stream",
     "text": [
      "--2024-11-24 14:22:05--  https://raw.githubusercontent.com/karpathy/char-rnn/master/data/tinyshakespeare/input.txt\n",
      "Resolving raw.githubusercontent.com (raw.githubusercontent.com)... 2606:50c0:8001::154, 2606:50c0:8002::154, 2606:50c0:8003::154, ...\n",
      "Connecting to raw.githubusercontent.com (raw.githubusercontent.com)|2606:50c0:8001::154|:443... connected.\n",
      "HTTP request sent, awaiting response... 200 OK\n",
      "Length: 1115394 (1.1M) [text/plain]\n",
      "Saving to: ‘input.txt’\n",
      "\n",
      "input.txt           100%[===================>]   1.06M  2.18MB/s    in 0.5s    \n",
      "\n",
      "2024-11-24 14:22:06 (2.18 MB/s) - ‘input.txt’ saved [1115394/1115394]\n",
      "\n"
     ]
    }
   ],
   "source": [
    "# We always start with a dataset to train on. Let's download the tiny shakespeare dataset\n",
    "# import os\n",
    "# os.environ['DYLD_LIBRARY_PATH'] = '/usr/local/opt/libunistring/lib:' + os.environ.get('DYLD_LIBRARY_PATH', '')\n",
    "!wget https://raw.githubusercontent.com/karpathy/char-rnn/master/data/tinyshakespeare/input.txt"
   ]
  },
  {
   "cell_type": "code",
   "execution_count": 3,
   "id": "01630eb5-95ec-4ac4-ba24-98003950189a",
   "metadata": {},
   "outputs": [],
   "source": [
    "# read it in to inspect it\n",
    "with open('input.txt', 'r', encoding='utf-8') as f:\n",
    "    text = f.read()"
   ]
  },
  {
   "cell_type": "code",
   "execution_count": 4,
   "id": "e7e8378c-9a24-4119-8107-6f85b196a2b0",
   "metadata": {},
   "outputs": [
    {
     "name": "stdout",
     "output_type": "stream",
     "text": [
      "length of dataset in characters:  1115394\n"
     ]
    }
   ],
   "source": [
    "print(\"length of dataset in characters: \", len(text))"
   ]
  },
  {
   "cell_type": "code",
   "execution_count": 6,
   "id": "973da5f0-ccfb-45a8-b0e6-1e5b9be36943",
   "metadata": {},
   "outputs": [
    {
     "name": "stdout",
     "output_type": "stream",
     "text": [
      "First Citizen:\n",
      "Before we proceed any further, hear me speak.\n",
      "\n",
      "All:\n",
      "Speak, speak.\n",
      "\n",
      "First Citizen:\n",
      "You are all resolved rather to die than to famish?\n",
      "\n",
      "All:\n",
      "Resolved. resolved.\n",
      "\n",
      "First Citizen:\n",
      "First, you know Caius Marcius is chief enemy to the people.\n",
      "\n",
      "All:\n",
      "We know't, we know't.\n",
      "\n",
      "First Citizen:\n",
      "Let us kill him, and we'll have corn at our own price.\n",
      "Is't a verdict?\n",
      "\n",
      "All:\n",
      "No more talking on't; let it be done: away, away!\n",
      "\n",
      "Second Citizen:\n",
      "One word, good citizens.\n",
      "\n",
      "First Citizen:\n",
      "We are accounted poor citizens, the patricians good.\n",
      "What authority surfeits on would relieve us: if they\n",
      "would yield us but the superfluity, while it were\n",
      "wholesome, we might guess they relieved us humanely;\n",
      "but they think we are too dear: the leanness that\n",
      "afflicts us, the object of our misery, is as an\n",
      "inventory to particularise their abundance; our\n",
      "sufferance is a gain to them Let us revenge this with\n",
      "our pikes, ere we become rakes: for the gods know I\n",
      "speak this in hunger for bread, not in thirst for revenge.\n",
      "\n",
      "\n"
     ]
    }
   ],
   "source": [
    "# let's look at the first 1000 characters\n",
    "print(text[:1000])"
   ]
  },
  {
   "cell_type": "code",
   "execution_count": 8,
   "id": "fef3d46f-4d9d-4a7c-a8fe-cc5dd18417ef",
   "metadata": {},
   "outputs": [
    {
     "name": "stdout",
     "output_type": "stream",
     "text": [
      "\n",
      " !$&',-.3:;?ABCDEFGHIJKLMNOPQRSTUVWXYZabcdefghijklmnopqrstuvwxyz\n",
      "65\n"
     ]
    }
   ],
   "source": [
    "# here are all the unique characters that occur in this text\n",
    "chars = sorted(list(set(text)))\n",
    "vocab_size = len(chars)\n",
    "print(''.join(chars))\n",
    "print(vocab_size)"
   ]
  },
  {
   "cell_type": "code",
   "execution_count": 9,
   "id": "d82276ea-18d1-48d9-9db1-40bdabec9d7f",
   "metadata": {},
   "outputs": [
    {
     "name": "stdout",
     "output_type": "stream",
     "text": [
      "<class 'function'>\n",
      "<class 'function'>\n",
      "[46, 47, 47, 1, 58, 46, 43, 56, 43]\n",
      "hii there\n"
     ]
    }
   ],
   "source": [
    "# create a mapping from characters to integers\n",
    "stoi = { ch:i for i,ch in enumerate(chars) }\n",
    "itos = { i:ch for i,ch in enumerate(chars) }\n",
    "encode = lambda s: [stoi[c] for c in s] # encoder: take a string, output a list of integers\n",
    "decode = lambda l: ''.join([itos[i] for i in l]) # decoder: take a list of integers, output a string\n",
    "\n",
    "\n",
    "print(type(encode))\n",
    "print(type(decode))\n",
    "\n",
    "print(encode(\"hii there\"))\n",
    "print(decode(encode(\"hii there\")))"
   ]
  },
  {
   "cell_type": "code",
   "execution_count": 10,
   "id": "7338209e-6332-41e1-b207-480730919c04",
   "metadata": {},
   "outputs": [
    {
     "name": "stdout",
     "output_type": "stream",
     "text": [
      "torch.Size([1115394]) <built-in method type of Tensor object at 0x10582eef0>\n",
      "tensor([18, 47, 56, 57, 58,  1, 15, 47, 58, 47, 64, 43, 52, 10,  0, 14, 43, 44,\n",
      "        53, 56, 43,  1, 61, 43,  1, 54, 56, 53, 41, 43, 43, 42,  1, 39, 52, 63,\n",
      "         1, 44, 59, 56, 58, 46, 43, 56,  6,  1, 46, 43, 39, 56,  1, 51, 43,  1,\n",
      "        57, 54, 43, 39, 49,  8,  0,  0, 13, 50, 50, 10,  0, 31, 54, 43, 39, 49,\n",
      "         6,  1, 57, 54, 43, 39, 49,  8,  0,  0, 18, 47, 56, 57, 58,  1, 15, 47,\n",
      "        58, 47, 64, 43, 52, 10,  0, 37, 53, 59,  1, 39, 56, 43,  1, 39, 50, 50,\n",
      "         1, 56, 43, 57, 53, 50, 60, 43, 42,  1, 56, 39, 58, 46, 43, 56,  1, 58,\n",
      "        53,  1, 42, 47, 43,  1, 58, 46, 39, 52,  1, 58, 53,  1, 44, 39, 51, 47,\n",
      "        57, 46, 12,  0,  0, 13, 50, 50, 10,  0, 30, 43, 57, 53, 50, 60, 43, 42,\n",
      "         8,  1, 56, 43, 57, 53, 50, 60, 43, 42,  8,  0,  0, 18, 47, 56, 57, 58,\n",
      "         1, 15, 47, 58, 47, 64, 43, 52, 10,  0, 18, 47, 56, 57, 58,  6,  1, 63,\n",
      "        53, 59,  1, 49, 52, 53, 61,  1, 15, 39, 47, 59, 57,  1, 25, 39, 56, 41,\n",
      "        47, 59, 57,  1, 47, 57,  1, 41, 46, 47, 43, 44,  1, 43, 52, 43, 51, 63,\n",
      "         1, 58, 53,  1, 58, 46, 43,  1, 54, 43, 53, 54, 50, 43,  8,  0,  0, 13,\n",
      "        50, 50, 10,  0, 35, 43,  1, 49, 52, 53, 61,  5, 58,  6,  1, 61, 43,  1,\n",
      "        49, 52, 53, 61,  5, 58,  8,  0,  0, 18, 47, 56, 57, 58,  1, 15, 47, 58,\n",
      "        47, 64, 43, 52, 10,  0, 24, 43, 58,  1, 59, 57,  1, 49, 47, 50, 50,  1,\n",
      "        46, 47, 51,  6,  1, 39, 52, 42,  1, 61, 43,  5, 50, 50,  1, 46, 39, 60,\n",
      "        43,  1, 41, 53, 56, 52,  1, 39, 58,  1, 53, 59, 56,  1, 53, 61, 52,  1,\n",
      "        54, 56, 47, 41, 43,  8,  0, 21, 57,  5, 58,  1, 39,  1, 60, 43, 56, 42,\n",
      "        47, 41, 58, 12,  0,  0, 13, 50, 50, 10,  0, 26, 53,  1, 51, 53, 56, 43,\n",
      "         1, 58, 39, 50, 49, 47, 52, 45,  1, 53, 52,  5, 58, 11,  1, 50, 43, 58,\n",
      "         1, 47, 58,  1, 40, 43,  1, 42, 53, 52, 43, 10,  1, 39, 61, 39, 63,  6,\n",
      "         1, 39, 61, 39, 63,  2,  0,  0, 31, 43, 41, 53, 52, 42,  1, 15, 47, 58,\n",
      "        47, 64, 43, 52, 10,  0, 27, 52, 43,  1, 61, 53, 56, 42,  6,  1, 45, 53,\n",
      "        53, 42,  1, 41, 47, 58, 47, 64, 43, 52, 57,  8,  0,  0, 18, 47, 56, 57,\n",
      "        58,  1, 15, 47, 58, 47, 64, 43, 52, 10,  0, 35, 43,  1, 39, 56, 43,  1,\n",
      "        39, 41, 41, 53, 59, 52, 58, 43, 42,  1, 54, 53, 53, 56,  1, 41, 47, 58,\n",
      "        47, 64, 43, 52, 57,  6,  1, 58, 46, 43,  1, 54, 39, 58, 56, 47, 41, 47,\n",
      "        39, 52, 57,  1, 45, 53, 53, 42,  8,  0, 35, 46, 39, 58,  1, 39, 59, 58,\n",
      "        46, 53, 56, 47, 58, 63,  1, 57, 59, 56, 44, 43, 47, 58, 57,  1, 53, 52,\n",
      "         1, 61, 53, 59, 50, 42,  1, 56, 43, 50, 47, 43, 60, 43,  1, 59, 57, 10,\n",
      "         1, 47, 44,  1, 58, 46, 43, 63,  0, 61, 53, 59, 50, 42,  1, 63, 47, 43,\n",
      "        50, 42,  1, 59, 57,  1, 40, 59, 58,  1, 58, 46, 43,  1, 57, 59, 54, 43,\n",
      "        56, 44, 50, 59, 47, 58, 63,  6,  1, 61, 46, 47, 50, 43,  1, 47, 58,  1,\n",
      "        61, 43, 56, 43,  0, 61, 46, 53, 50, 43, 57, 53, 51, 43,  6,  1, 61, 43,\n",
      "         1, 51, 47, 45, 46, 58,  1, 45, 59, 43, 57, 57,  1, 58, 46, 43, 63,  1,\n",
      "        56, 43, 50, 47, 43, 60, 43, 42,  1, 59, 57,  1, 46, 59, 51, 39, 52, 43,\n",
      "        50, 63, 11,  0, 40, 59, 58,  1, 58, 46, 43, 63,  1, 58, 46, 47, 52, 49,\n",
      "         1, 61, 43,  1, 39, 56, 43,  1, 58, 53, 53,  1, 42, 43, 39, 56, 10,  1,\n",
      "        58, 46, 43,  1, 50, 43, 39, 52, 52, 43, 57, 57,  1, 58, 46, 39, 58,  0,\n",
      "        39, 44, 44, 50, 47, 41, 58, 57,  1, 59, 57,  6,  1, 58, 46, 43,  1, 53,\n",
      "        40, 48, 43, 41, 58,  1, 53, 44,  1, 53, 59, 56,  1, 51, 47, 57, 43, 56,\n",
      "        63,  6,  1, 47, 57,  1, 39, 57,  1, 39, 52,  0, 47, 52, 60, 43, 52, 58,\n",
      "        53, 56, 63,  1, 58, 53,  1, 54, 39, 56, 58, 47, 41, 59, 50, 39, 56, 47,\n",
      "        57, 43,  1, 58, 46, 43, 47, 56,  1, 39, 40, 59, 52, 42, 39, 52, 41, 43,\n",
      "        11,  1, 53, 59, 56,  0, 57, 59, 44, 44, 43, 56, 39, 52, 41, 43,  1, 47,\n",
      "        57,  1, 39,  1, 45, 39, 47, 52,  1, 58, 53,  1, 58, 46, 43, 51,  1, 24,\n",
      "        43, 58,  1, 59, 57,  1, 56, 43, 60, 43, 52, 45, 43,  1, 58, 46, 47, 57,\n",
      "         1, 61, 47, 58, 46,  0, 53, 59, 56,  1, 54, 47, 49, 43, 57,  6,  1, 43,\n",
      "        56, 43,  1, 61, 43,  1, 40, 43, 41, 53, 51, 43,  1, 56, 39, 49, 43, 57,\n",
      "        10,  1, 44, 53, 56,  1, 58, 46, 43,  1, 45, 53, 42, 57,  1, 49, 52, 53,\n",
      "        61,  1, 21,  0, 57, 54, 43, 39, 49,  1, 58, 46, 47, 57,  1, 47, 52,  1,\n",
      "        46, 59, 52, 45, 43, 56,  1, 44, 53, 56,  1, 40, 56, 43, 39, 42,  6,  1,\n",
      "        52, 53, 58,  1, 47, 52,  1, 58, 46, 47, 56, 57, 58,  1, 44, 53, 56,  1,\n",
      "        56, 43, 60, 43, 52, 45, 43,  8,  0,  0])\n"
     ]
    }
   ],
   "source": [
    "import torch\n",
    "\n",
    "data = torch.tensor(encode(text), dtype=torch.long)\n",
    "print(data.shape, data.type)\n",
    "print(data[:1000])"
   ]
  },
  {
   "cell_type": "code",
   "execution_count": 12,
   "id": "432a0f36-6a78-40bf-a0ce-f4eeb2363e8e",
   "metadata": {},
   "outputs": [
    {
     "name": "stdout",
     "output_type": "stream",
     "text": [
      "1003854\n",
      "111540\n"
     ]
    }
   ],
   "source": [
    "n = int(len(data) * 0.9)\n",
    "train_data = data[:n]\n",
    "val_data = data[n:]\n",
    "\n",
    "print(len(train_data))\n",
    "print(len(val_data))"
   ]
  },
  {
   "cell_type": "code",
   "execution_count": 14,
   "id": "8790fd2f-2a38-4f1f-8eae-7e42f576b1dd",
   "metadata": {},
   "outputs": [
    {
     "data": {
      "text/plain": [
       "tensor([18, 47, 56, 57, 58,  1, 15, 47, 58])"
      ]
     },
     "execution_count": 14,
     "metadata": {},
     "output_type": "execute_result"
    }
   ],
   "source": [
    "block_size = 8\n",
    "train_data[:block_size + 1]"
   ]
  },
  {
   "cell_type": "code",
   "execution_count": 40,
   "id": "6faeedf4-2487-44b3-928c-714be05142fd",
   "metadata": {},
   "outputs": [
    {
     "name": "stdout",
     "output_type": "stream",
     "text": [
      "when the input is:tensor([18]), the target is: 47.\n",
      "when the input is:tensor([18, 47]), the target is: 56.\n",
      "when the input is:tensor([18, 47, 56]), the target is: 57.\n",
      "when the input is:tensor([18, 47, 56, 57]), the target is: 58.\n",
      "when the input is:tensor([18, 47, 56, 57, 58]), the target is: 1.\n",
      "when the input is:tensor([18, 47, 56, 57, 58,  1]), the target is: 15.\n",
      "when the input is:tensor([18, 47, 56, 57, 58,  1, 15]), the target is: 47.\n",
      "when the input is:tensor([18, 47, 56, 57, 58,  1, 15, 47]), the target is: 58.\n"
     ]
    }
   ],
   "source": [
    "x = train_data[:block_size]\n",
    "y = train_data[1:block_size + 1]\n",
    "\n",
    "for t in range(block_size):\n",
    "    context = x[:t + 1]\n",
    "    target = y[t]\n",
    "    print(f\"when the input is:{context}, the target is: {target}.\")"
   ]
  },
  {
   "cell_type": "code",
   "execution_count": 60,
   "id": "a264e1cd-4ec8-4511-9295-4f3dc052cc1f",
   "metadata": {},
   "outputs": [
    {
     "name": "stdout",
     "output_type": "stream",
     "text": [
      "inputs:\n",
      "torch.Size([4, 8])\n",
      "tensor([[57,  1, 46, 47, 57,  1, 50, 53],\n",
      "        [56, 57, 11,  1, 61, 46, 53,  6],\n",
      "        [36, 18, 27, 30, 16, 10,  0, 15],\n",
      "        [45, 53, 52, 59, 57,  6,  1, 58]])\n",
      "targets:\n",
      "torch.Size([4, 8])\n",
      "tensor([[ 1, 46, 47, 57,  1, 50, 53, 60],\n",
      "        [57, 11,  1, 61, 46, 53,  6,  1],\n",
      "        [18, 27, 30, 16, 10,  0, 15, 39],\n",
      "        [53, 52, 59, 57,  6,  1, 58, 46]])\n",
      "--------------------------------------------------\n",
      "when the input is:tensor([57]), the target is: 1.\n",
      "when the input is:tensor([57,  1]), the target is: 46.\n",
      "when the input is:tensor([57,  1, 46]), the target is: 47.\n",
      "when the input is:tensor([57,  1, 46, 47]), the target is: 57.\n",
      "when the input is:tensor([57,  1, 46, 47, 57]), the target is: 1.\n",
      "when the input is:tensor([57,  1, 46, 47, 57,  1]), the target is: 50.\n",
      "when the input is:tensor([57,  1, 46, 47, 57,  1, 50]), the target is: 53.\n",
      "when the input is:tensor([57,  1, 46, 47, 57,  1, 50, 53]), the target is: 60.\n",
      "when the input is:tensor([56]), the target is: 57.\n",
      "when the input is:tensor([56, 57]), the target is: 11.\n",
      "when the input is:tensor([56, 57, 11]), the target is: 1.\n",
      "when the input is:tensor([56, 57, 11,  1]), the target is: 61.\n",
      "when the input is:tensor([56, 57, 11,  1, 61]), the target is: 46.\n",
      "when the input is:tensor([56, 57, 11,  1, 61, 46]), the target is: 53.\n",
      "when the input is:tensor([56, 57, 11,  1, 61, 46, 53]), the target is: 6.\n",
      "when the input is:tensor([56, 57, 11,  1, 61, 46, 53,  6]), the target is: 1.\n",
      "when the input is:tensor([36]), the target is: 18.\n",
      "when the input is:tensor([36, 18]), the target is: 27.\n",
      "when the input is:tensor([36, 18, 27]), the target is: 30.\n",
      "when the input is:tensor([36, 18, 27, 30]), the target is: 16.\n",
      "when the input is:tensor([36, 18, 27, 30, 16]), the target is: 10.\n",
      "when the input is:tensor([36, 18, 27, 30, 16, 10]), the target is: 0.\n",
      "when the input is:tensor([36, 18, 27, 30, 16, 10,  0]), the target is: 15.\n",
      "when the input is:tensor([36, 18, 27, 30, 16, 10,  0, 15]), the target is: 39.\n",
      "when the input is:tensor([45]), the target is: 53.\n",
      "when the input is:tensor([45, 53]), the target is: 52.\n",
      "when the input is:tensor([45, 53, 52]), the target is: 59.\n",
      "when the input is:tensor([45, 53, 52, 59]), the target is: 57.\n",
      "when the input is:tensor([45, 53, 52, 59, 57]), the target is: 6.\n",
      "when the input is:tensor([45, 53, 52, 59, 57,  6]), the target is: 1.\n",
      "when the input is:tensor([45, 53, 52, 59, 57,  6,  1]), the target is: 58.\n",
      "when the input is:tensor([45, 53, 52, 59, 57,  6,  1, 58]), the target is: 46.\n"
     ]
    }
   ],
   "source": [
    "torch.manual_seed(42)\n",
    "batch_size = 4 # how many independent sequences will we process in parallel?\n",
    "block_size = 8 # what is the maximum context length for predictions?\n",
    "\n",
    "def get_batch(split):\n",
    "    # generate a small batch of data of inputs x and targets y\n",
    "    data = train_data if split == 'train' else val_data\n",
    "    # idx = torch.randint(len(data) - block_size, (batch_size,)) \n",
    "    idx = torch.randperm(len(data) - block_size)[:batch_size] # as the random starting point of each block without repeating\n",
    "    # print(f\"initial position of each block is: {idx}\")\n",
    "    x = torch.stack([data[i:i + block_size] for i in idx])\n",
    "    y = torch.stack([data[i + 1:i + block_size + 1] for i in idx])\n",
    "    return x, y\n",
    "\n",
    "xb, yb = get_batch('train')\n",
    "print('inputs:')\n",
    "print(xb.shape)\n",
    "print(xb)\n",
    "print('targets:')\n",
    "print(yb.shape)\n",
    "print(yb)\n",
    "\n",
    "print('-' * 50)\n",
    "\n",
    "for b in range(batch_size):\n",
    "    for t in range(block_size):\n",
    "        context = xb[b, :t + 1]\n",
    "        target = yb[b, t]\n",
    "        print(f\"when the input is:{context}, the target is: {target}.\")\n",
    "    \n",
    "\n"
   ]
  },
  {
   "cell_type": "code",
   "execution_count": 42,
   "id": "4300a7c3-ed22-45f2-a6e3-4857d913a5b5",
   "metadata": {},
   "outputs": [
    {
     "name": "stdout",
     "output_type": "stream",
     "text": [
      "tensor([[57,  1, 46, 47, 57,  1, 50, 53],\n",
      "        [56, 57, 11,  1, 61, 46, 53,  6],\n",
      "        [36, 18, 27, 30, 16, 10,  0, 15],\n",
      "        [45, 53, 52, 59, 57,  6,  1, 58]])\n"
     ]
    }
   ],
   "source": [
    "print(xb) # our input to the transformer"
   ]
  },
  {
   "cell_type": "code",
   "execution_count": 115,
   "id": "3e3fd51b-1e2b-4bc4-9ebe-c46e45415d26",
   "metadata": {
    "scrolled": true
   },
   "outputs": [
    {
     "name": "stdout",
     "output_type": "stream",
     "text": [
      "<class 'torch.nn.modules.sparse.Embedding'>\n",
      "Embedding(65, 65)\n",
      "torch.Size([32, 65])\n",
      "tensor([[ 0.4224, -0.8596,  0.2910,  ...,  0.2380, -0.1270,  0.0534],\n",
      "        [ 0.8564,  2.2181,  0.5232,  ...,  0.4114,  1.9312,  1.0119],\n",
      "        [ 0.4851,  0.0060,  1.0007,  ..., -0.0776, -0.5015, -2.2270],\n",
      "        ...,\n",
      "        [-0.6013, -0.0996, -0.9852,  ..., -0.4292, -0.9818, -0.6421],\n",
      "        [ 0.8564,  2.2181,  0.5232,  ...,  0.4114,  1.9312,  1.0119],\n",
      "        [ 1.0923, -1.3024,  1.3521,  ..., -0.2658, -1.4075, -0.7460]],\n",
      "       grad_fn=<ViewBackward0>)\n",
      "tensor(4.6168, grad_fn=<NllLossBackward0>)\n",
      "\n",
      "o$,q&IWqW&xtCjaB?ij&bYRGkF?b; f ,CbwhtERCIfuWr,DzJERjhLlVaF&EjffPHDFcNoGIG'&$qXisWTkJPw\n",
      " ,b Xgx?D3sj\n"
     ]
    }
   ],
   "source": [
    "import torch\n",
    "import torch.nn as nn\n",
    "from torch.nn import functional as F\n",
    "torch.manual_seed(42)\n",
    "\n",
    "class BigramLanguageModel(nn.Module):\n",
    "\n",
    "    def __init__(self, vocab_size):\n",
    "        super().__init__()\n",
    "        # each token directly reads off the logits for the next token from a lookup table\n",
    "        # 这里的本质上是做了一个 embedding 初始化的作用，我们默认 nn.Embedding(num_embeddings, embedding_dim)会做随机的初始化，\n",
    "        # 这里之所以会选择 num_embeddings == embedding_dim == vocab_size， 本质上是我们只是用了一个最简单的情况，\n",
    "        # 直接用 embedding i 的第 j 个 element 表示 vocab i 对于 j 的预测概率, 直接成为了 logits ，i.e., self.token_embedding_table(i)[j]\n",
    "        self.token_embedding_table = nn.Embedding(vocab_size, vocab_size)\n",
    "        \n",
    "\n",
    "    def forward(self, idx, targets=None):\n",
    "\n",
    "        # idx and targets are both (B,T) tensor of integers\n",
    "        logits = self.token_embedding_table(idx) \n",
    "        # (B,T,C), as batch_size = B = 4, block_size = T = 8 这里的 blcok 也可以想象成 time step, channel_size = C = 65\n",
    "\n",
    "\n",
    "        # 根据 torch.nn.CrossEntropyLoss，https://pytorch.org/docs/stable/generated/torch.nn.CrossEntropyLoss.html\n",
    "        # CEloss 的 input 形式应该是 (minibatch,C)，C 代表的是不同的 class, aka channel_size，在我们的例子里，\n",
    "        # 因为每一个 batch 实际上都会 block_size 个下一个数字需要预测， 所以 minibatch = 4 * 8，同时因为 logits 的 shape 是 (B,T,C)，\n",
    "        # 无法直接使用 cross_entropy, 所以我们需要重新改变他们的形状，使得 F.cross_entropy() 的 input 的形状变为\n",
    "        # （B * T, C）, 和 （B * T）\n",
    "\n",
    "        if targets is None:\n",
    "            loss = None\n",
    "        else:\n",
    "            B, T, C = logits.shape\n",
    "            logits = logits.view(B*T, C)\n",
    "            targets = targets.view(B*T)\n",
    "            loss = F.cross_entropy(logits, targets)\n",
    "\n",
    "        return logits, loss\n",
    "\n",
    "    def generate(self, idx, max_new_tokens):\n",
    "        # idx is (B, T) array of indices in the current context\n",
    "        # 逐步通过 logits 的概率生成 max_new_tokens 个新的 tokens\n",
    "        \n",
    "        for _ in range(max_new_tokens):\n",
    "            # get the predictions\n",
    "            # self(x)（即将模型对象作为一个函数调用）会调用模型的 forward 方法，这是 PyTorch 对 nn.Module 的一个特殊设计。\n",
    " \n",
    "            logits, loss = self(idx)\n",
    "            # focus only on the last time step\n",
    "            logits = logits[:, -1, :] # becomes (B, C)，只用最后一个时间步数，也就是 block 的最后一位来进行预测\n",
    "            # apply softmax to get probabilities\n",
    "            probs = F.softmax(logits, dim=-1) # (B, C)，在最后一个维度 channel 上做 softmax\n",
    "            # sample from the distribution\n",
    "            idx_next = torch.multinomial(probs, num_samples=1) # (B, 1)\n",
    "            # append sampled index to the running sequence\n",
    "            idx = torch.cat((idx, idx_next), dim=1) # (B, T+1)\n",
    "        return idx\n",
    "\n",
    "m = BigramLanguageModel(vocab_size)\n",
    "logits, loss = m(xb, yb)\n",
    "\n",
    "\n",
    "print(type(m.token_embedding_table))\n",
    "print(m.token_embedding_table)\n",
    "\n",
    "\n",
    "print(logits.shape)\n",
    "print(logits)\n",
    "print(loss)  \n",
    "# 根据单个样本的 CEloss = - sum y*log(p) = - log(p), 如果 p 是几乎随机的 1/65， 那么 loss = -log(1/65) = log(65) = 4.174\n",
    "# 与初始计算的 loss = tensor(4.6168, grad_fn=<NllLossBackward0>)，很接近，说明一开始几乎是随机的\n",
    "\n",
    "# 从初始的 0 tensor 开始，逐步生成长度最多为 100 的 输出\n",
    "print(decode(m.generate(idx = torch.zeros((1, 1), dtype=torch.long), max_new_tokens=100)[0].tolist()))\n"
   ]
  },
  {
   "cell_type": "code",
   "execution_count": null,
   "id": "0842c411-0f2e-4ab4-b304-41a1ba7e4464",
   "metadata": {},
   "outputs": [],
   "source": []
  },
  {
   "cell_type": "code",
   "execution_count": 54,
   "id": "eee04bb5-58c7-45bc-a2c0-a53310e3506f",
   "metadata": {},
   "outputs": [],
   "source": [
    "# create a PyTorch optimizer\n",
    "optimizer = torch.optim.AdamW(m.parameters(), lr=1e-3)"
   ]
  },
  {
   "cell_type": "code",
   "execution_count": 116,
   "id": "03a25a94-e5db-4b1d-acdd-52675b6fb281",
   "metadata": {},
   "outputs": [
    {
     "name": "stdout",
     "output_type": "stream",
     "text": [
      "4.657245635986328\n"
     ]
    }
   ],
   "source": [
    "batch_size = 32\n",
    "for steps in range(10000): # increase number of steps for good results...\n",
    "\n",
    "    # sample a batch of data\n",
    "    xb, yb = get_batch('train')\n",
    "\n",
    "    # 训练过程\n",
    "    # evaluate the loss\n",
    "    logits, loss = m(xb, yb)              # 1. 计算 loss\n",
    "    optimizer.zero_grad(set_to_none=True) # 2. 将模型参数的梯度清零，防止上一轮的梯度影响当前轮的计算。\n",
    "    loss.backward()                       # 3. 计算梯度\n",
    "    optimizer.step()                      # 4. 更新 weight\n",
    "\n",
    "print(loss.item())\n"
   ]
  },
  {
   "cell_type": "code",
   "execution_count": 64,
   "id": "037a09f1-ac4b-4560-9932-ba960de7c020",
   "metadata": {},
   "outputs": [
    {
     "name": "stdout",
     "output_type": "stream",
     "text": [
      "\n",
      "Tht thak sg any ou,\n",
      "\n",
      "T:\n",
      "Willl hoime abut'RDIOMstidsuc thio brans ga, min t it,\n",
      "Kntonot id maprgor s!\n",
      "\n",
      "Asou es,\n",
      "FI; be Hareanotofou DI y:\n",
      "\n",
      "Crens hikeveshe, courerthant ngaise s by mero, d.\n",
      "Brere.\n",
      "OMenend s, fe l! wime y gturdomodd hurthe wo ads p d byo LESHad.\n",
      "Mingrmyo itu wod\n",
      "ORUNUnd ms! UCE:\n",
      "Garee r nd balBetin yes aiders ager n, reXOHe ha.\n",
      "SCanort  r\n",
      "Thorwinouliseljowh iak'd, baveay tin.\n",
      "NThe mitispel de me.\n",
      "the werocares l wo-d ppate bothived boudors d falsth at y,\n",
      "\n",
      "fare, aineanfathyofie fath\n"
     ]
    }
   ],
   "source": [
    "print(decode(m.generate(idx = torch.zeros((1, 1), dtype=torch.long), max_new_tokens=500)[0].tolist()))"
   ]
  },
  {
   "cell_type": "markdown",
   "id": "e78ad9a1-530a-45e5-a3be-72d5e3161471",
   "metadata": {},
   "source": [
    "## The mathematical trick in self-attention\n",
    "\n",
    "---\n",
    "\n"
   ]
  },
  {
   "cell_type": "code",
   "execution_count": 66,
   "id": "62752e3c-6746-430b-ba76-050c90f9ab32",
   "metadata": {},
   "outputs": [
    {
     "data": {
      "text/plain": [
       "torch.Size([4, 8, 2])"
      ]
     },
     "execution_count": 66,
     "metadata": {},
     "output_type": "execute_result"
    }
   ],
   "source": [
    "# consider the following toy example:\n",
    "\n",
    "torch.manual_seed(42)\n",
    "B,T,C = 4,8,2 # batch, time, channels\n",
    "x = torch.randn(B,T,C)\n",
    "x.shape"
   ]
  },
  {
   "cell_type": "code",
   "execution_count": 80,
   "id": "280eaa16-89ec-4a70-9689-30974cb12660",
   "metadata": {},
   "outputs": [],
   "source": [
    "# Version 1: 手动计算 up to t 的 bag of words (bow)，本质是计算前 t 项的\n",
    "# sum pooling。比较麻烦，时间复杂度 O(BT^2C)，额外空间复杂度 O(TC)\n",
    "\n",
    "# We want each xbow[b, t] to be the mean of x[b, i] for all i <= t, aka x[b, t] = mean_{i<=t} x[b, i]\n",
    "xbow = torch.zeros((B, T, C))\n",
    "for b in range(B):\n",
    "    for t in range(T):\n",
    "        xprev = x[b, :t + 1]  # (t + 1, C)\n",
    "        xbow[b, t] = torch.mean(xprev, 0)"
   ]
  },
  {
   "cell_type": "code",
   "execution_count": 87,
   "id": "616c084f-ae2d-466b-b5fb-1ee27976465b",
   "metadata": {},
   "outputs": [
    {
     "name": "stdout",
     "output_type": "stream",
     "text": [
      "a=\n",
      "tensor([[1.0000, 0.0000, 0.0000],\n",
      "        [0.5000, 0.5000, 0.0000],\n",
      "        [0.3333, 0.3333, 0.3333]])\n",
      "--\n",
      "b=\n",
      "tensor([[3., 3.],\n",
      "        [6., 8.],\n",
      "        [6., 4.]])\n",
      "--\n",
      "c=\n",
      "tensor([[3.0000, 3.0000],\n",
      "        [4.5000, 5.5000],\n",
      "        [5.0000, 5.0000]])\n"
     ]
    }
   ],
   "source": [
    "# toy example illustrating how matrix multiplication can be used for a \"weighted aggregation\"\n",
    "# 利用下三角矩阵快速得到每个index i 的 [:i + 1] 的平均值\n",
    "torch.manual_seed(21)\n",
    "a = torch.tril(torch.ones(3, 3))\n",
    "\n",
    "\n",
    "# print('case1', torch.sum(a, 1).shape)\n",
    "# print('case2', torch.sum(a, 1, keepdim=True).shape)\n",
    "# a = a / torch.sum(a, 1)\n",
    "# 记住不能犯这个错误，一定要加上 keepdim=True 否则除法的时候不对\n",
    "\n",
    "a = a / torch.sum(a, 1, keepdim=True)\n",
    "\n",
    "\n",
    "b = torch.randint(0, 10,(3, 2)).float()\n",
    "c = a @ b\n",
    "print('a=')\n",
    "print(a)\n",
    "print('--')\n",
    "print('b=')\n",
    "print(b)\n",
    "print('--')\n",
    "\n",
    "# c 就是前 i 个的 sumpooling\n",
    "print('c=')\n",
    "print(c)"
   ]
  },
  {
   "cell_type": "code",
   "execution_count": 88,
   "id": "6aa9f7e3-290d-4d5f-9c76-857eb2083faf",
   "metadata": {},
   "outputs": [
    {
     "data": {
      "text/plain": [
       "True"
      ]
     },
     "execution_count": 88,
     "metadata": {},
     "output_type": "execute_result"
    }
   ],
   "source": [
    "# version 2: using matrix multiply for a weighted aggregation\n",
    "\n",
    "wei = torch.tril(torch.ones(T, T))\n",
    "\n",
    "# 这里的 wei 代表就是之前的 tensor a，可以看到在简单的 sumpooling 模型中，wei 代表之前的所有字符对当前的影响是一样的，不论多远，这明显是不合理的\n",
    "# 之后的 self attention 会进行修改，通过 QKV 的方式计算不同之前的 char 对于之后的影响\n",
    "\n",
    "wei = wei / wei.sum(1, keepdim=True)\n",
    "xbow2 = wei @ x # (T, T) @ (B, T, C) 利用广播机制 ----> (B, T, T) @ (B, T, C) ----> (B, T, C)\n",
    "torch.allclose(xbow, xbow2)"
   ]
  },
  {
   "cell_type": "code",
   "execution_count": 86,
   "id": "51833e15-1a20-48ab-ae40-555ddff5c630",
   "metadata": {},
   "outputs": [
    {
     "data": {
      "text/plain": [
       "True"
      ]
     },
     "execution_count": 86,
     "metadata": {},
     "output_type": "execute_result"
    }
   ],
   "source": [
    "# version 3: using Softmax\n",
    "tril = torch.tril(torch.ones(T, T))\n",
    "wei = wei.masked_fill(tril == 0, float('-inf'))\n",
    "wei = F.softmax(wei, dim=-1)\n",
    "xbow3 = wei @ x \n",
    "torch.allclose(xbow, xbow3)"
   ]
  },
  {
   "cell_type": "code",
   "execution_count": 96,
   "id": "3e2d830f-2fc3-470f-af41-547edf80f62d",
   "metadata": {},
   "outputs": [
    {
     "data": {
      "text/plain": [
       "torch.Size([4, 8, 16])"
      ]
     },
     "execution_count": 96,
     "metadata": {},
     "output_type": "execute_result"
    }
   ],
   "source": [
    "# version 4: self-attention!\n",
    "# self-attention 本质是一种 token communication mechanism, 它实现了特定的通过线性计算 token 之前所有的点与 token 的 attention 分数，然后计算 weighted sum\n",
    "\n",
    "torch.manual_seed(42)\n",
    "B,T,C = 4,8,32 # batch, time, channels \n",
    "# 这里需要注意的是，这里的 channels 不再代指 65 的 vocal_size, 这里我们可以规定 token embedding 的维度，然后通过更改为\n",
    "\n",
    "# def __init__(self):\n",
    "#     self.token_embedding_table = nn.Embedding(vocab_size, n_embd),  # c == n_embd\n",
    "#     self.position_embedding_table = nn.Embedding(block_size, n_embd)  # 这里使用的是 learnable 的 posiiton embedding，从 0 到 T - 1，每一个位置学习一个 embedding\n",
    "    \n",
    "#     # 这里是 Transformer 原文的正余弦 position embedding\n",
    "#     # def sinusoidal_positional_encoding(seq_len, dim):\n",
    "#     #     pos = torch.arange(seq_len).unsqueeze(1)  # (seq_len, 1)\n",
    "#     #     div_term = torch.exp(torch.arange(0, dim, 2) * -(math.log(10000.0) / dim))\n",
    "#     #     pe = torch.zeros(seq_len, dim)\n",
    "#     #     pe[:, 0::2] = torch.sin(pos * div_term)\n",
    "#     #     pe[:, 1::2] = torch.cos(pos * div_term)\n",
    "#     #     return pe\n",
    "\n",
    "#     # self.position_embedding_table = sinusoidal_positional_encoding(block_size, n_embd)\n",
    "    \n",
    "#     self.lm_head = nn.Linear(n_embd, vocab_size) 这里是输出层，因为最后一定是要转换为预测词表的概率，所以一定需要从隐含层 n_embd 映射到 vocab_size\n",
    "\n",
    "# .\n",
    "# .\n",
    "# .\n",
    "# def forward(self, idx, target=None):\n",
    "#     tok_emb = self.token_embedding_table(idx)  # (B, T, C)\n",
    "#     pos_emb = self.position_embedding_table(torch.arange(T, device=device))  #(T, C)\n",
    "#     x = tok_emb + pos_emb  #(B, T, C)\n",
    "#     logits = self.lm_head(x)\n",
    "\n",
    "\n",
    "\n",
    "x = torch.randn(B,T,C)\n",
    "\n",
    "# let's see a single Head perform self-attention\n",
    "head_size = 16  # 对于每一个单头的注意力机制，这里 head_size 指的就是将 token 的信息 （tok_embd + pos_embd） -> C 之后，C 再压缩到低维空间的维度\n",
    "key = nn.Linear(C, head_size, bias=False)\n",
    "query = nn.Linear(C, head_size, bias=False)\n",
    "value = nn.Linear(C, head_size, bias=False)\n",
    "\n",
    "# most import in self attention\n",
    "k = key(x)   # (B, T, 16) # !!!! what do I contain\n",
    "q = query(x) # (B, T, 16) # !!!! what I'm looking for\n",
    "\n",
    "wei =  q @ k.transpose(-2, -1) # transpose 最后两个维度 (B, T, 16) @ (B, 16, T) ---> (B, T, T)\n",
    "\n",
    "tril = torch.tril(torch.ones(T, T))\n",
    "#wei = torch.zeros((T,T))\n",
    "wei = wei.masked_fill(tril == 0, float('-inf'))\n",
    "wei = F.softmax(wei, dim=-1)\n",
    "\n",
    "v = value(x)  # !!!! weighted sum of 之前的所有 t 对于我当前 index 的影响\n",
    "out = wei @ v\n",
    "#out = wei @ x\n",
    "\n",
    "out.shape"
   ]
  },
  {
   "cell_type": "code",
   "execution_count": null,
   "id": "6e6fc989-ff6e-4e01-a4c1-ae8aa82a7e98",
   "metadata": {},
   "outputs": [],
   "source": []
  },
  {
   "cell_type": "code",
   "execution_count": 95,
   "id": "027d8327-d9b1-40eb-b965-3c2191f22d55",
   "metadata": {},
   "outputs": [
    {
     "data": {
      "text/plain": [
       "tensor([[1.0000, 0.0000, 0.0000, 0.0000, 0.0000, 0.0000, 0.0000, 0.0000],\n",
       "        [0.1905, 0.8095, 0.0000, 0.0000, 0.0000, 0.0000, 0.0000, 0.0000],\n",
       "        [0.3742, 0.0568, 0.5690, 0.0000, 0.0000, 0.0000, 0.0000, 0.0000],\n",
       "        [0.1288, 0.3380, 0.1376, 0.3956, 0.0000, 0.0000, 0.0000, 0.0000],\n",
       "        [0.4311, 0.0841, 0.0582, 0.3049, 0.1217, 0.0000, 0.0000, 0.0000],\n",
       "        [0.0537, 0.3205, 0.0694, 0.2404, 0.2568, 0.0592, 0.0000, 0.0000],\n",
       "        [0.3396, 0.0149, 0.5165, 0.0180, 0.0658, 0.0080, 0.0373, 0.0000],\n",
       "        [0.0165, 0.0375, 0.0144, 0.1120, 0.0332, 0.4069, 0.3136, 0.0660]],\n",
       "       grad_fn=<SelectBackward0>)"
      ]
     },
     "execution_count": 95,
     "metadata": {},
     "output_type": "execute_result"
    }
   ],
   "source": [
    "wei[0]"
   ]
  },
  {
   "cell_type": "markdown",
   "id": "76d17cd4-6435-44e3-8e16-a95e1881fcc7",
   "metadata": {},
   "source": [
    "Notes: \n",
    "- Attention is a **communication mechanism**. Can be seen as nodes in a directed graph looking at each other and aggregating information with a weighted sum from all nodes that point to them, with data-dependent weights.\n",
    "- There is no notion of space. Attention simply acts over a set of vectors. This is why we need to positionally encode tokens.\n",
    "- Each example across batch dimension is of course processed completely independently and never \"talk\" to each other\n",
    "- In an \"encoder\" attention block just delete the single line that does masking with `tril`, allowing all tokens to communicate. This block here is called a \"decoder\" attention block because it has triangular masking, and is usually used in autoregressive settings, like language modeling.\n",
    "- \"self-attention\" just means that the keys and values are produced from the same source as queries. In \"cross-attention\", the queries still get produced from x, but the keys and values come from some other, external source (e.g. an encoder module)\n",
    "- \"Scaled\" attention additional divides `wei` by 1/sqrt(head_size). This makes it so when input Q,K are unit variance, wei will be unit variance too and Softmax will stay diffuse and not saturate too much. Illustration below"
   ]
  },
  {
   "cell_type": "code",
   "execution_count": 107,
   "id": "03f2692a-c42b-44f9-8318-1ebede71391d",
   "metadata": {},
   "outputs": [
    {
     "name": "stdout",
     "output_type": "stream",
     "text": [
      "tensor(0.9806)\n",
      "tensor(0.9566)\n",
      "--------------------------------------------------\n",
      "tensor(14.4670)\n",
      "tensor(0.9042)\n",
      "--------------------------------------------------\n",
      "Softmax may sharpen the distribution and converge to one-hot in case of extreme logits\n",
      "tensor([0.1925, 0.1426, 0.2351, 0.1426, 0.2872])\n",
      "tensor([0.1720, 0.0944, 0.2565, 0.0944, 0.3827])\n",
      "tensor([0.1139, 0.0343, 0.2535, 0.0343, 0.5641])\n",
      "tensor([0.0326, 0.0030, 0.1615, 0.0030, 0.8000])\n",
      "tensor([1.5939e-03, 1.3117e-05, 3.9102e-02, 1.3117e-05, 9.5928e-01])\n",
      "tensor([2.7562e-06, 1.8667e-10, 1.6588e-03, 1.8667e-10, 9.9834e-01])\n"
     ]
    }
   ],
   "source": [
    "k = torch.randn(B,T,head_size)\n",
    "q = torch.randn(B,T,head_size)\n",
    "wei_1 = q @ k.transpose(-2, -1)\n",
    "wei_2 = q @ k.transpose(-2, -1) * head_size**-0.5\n",
    "\n",
    "print(k.var())\n",
    "print(q.var())\n",
    "\n",
    "print('-' * 50)\n",
    "print(wei_1.var())\n",
    "print(wei_2.var())\n",
    "\n",
    "print('-' * 50)\n",
    "print(\"Softmax may sharpen the distribution and converge to one-hot in case of extreme logits\")\n",
    "\n",
    "\n",
    "test_tensor = torch.tensor([0.1, -0.2, 0.3, -0.2, 0.5])\n",
    "\n",
    "for multipler in range(6):\n",
    "    print(torch.softmax(test_tensor * 2 ** multipler, -1))\n",
    "\n"
   ]
  },
  {
   "cell_type": "code",
   "execution_count": 112,
   "id": "9d28e195-9092-4dc6-b4bb-a7b225280084",
   "metadata": {},
   "outputs": [],
   "source": [
    "# French to English translation example:\n",
    "\n",
    "# <--------- ENCODE ------------------><--------------- DECODE ----------------->\n",
    "# les réseaux de neurones sont géniaux! <START> neural networks are awesome!<END>\n",
    "\n"
   ]
  },
  {
   "cell_type": "code",
   "execution_count": 117,
   "id": "f46d0a55-cd2a-41ed-aa06-c0505932f830",
   "metadata": {},
   "outputs": [
    {
     "name": "stdout",
     "output_type": "stream",
     "text": [
      "0.209729 M parameters\n",
      "step 0: train loss 4.4116, val loss 4.4022\n",
      "step 100: train loss 2.6568, val loss 2.6670\n",
      "step 200: train loss 2.5091, val loss 2.5060\n",
      "step 300: train loss 2.4199, val loss 2.4338\n",
      "step 400: train loss 2.3499, val loss 2.3561\n",
      "step 500: train loss 2.2965, val loss 2.3129\n",
      "step 600: train loss 2.2405, val loss 2.2495\n",
      "step 700: train loss 2.2053, val loss 2.2194\n",
      "step 800: train loss 2.1625, val loss 2.1853\n",
      "step 900: train loss 2.1248, val loss 2.1513\n",
      "step 1000: train loss 2.1035, val loss 2.1305\n",
      "step 1100: train loss 2.0709, val loss 2.1193\n",
      "step 1200: train loss 2.0375, val loss 2.0789\n",
      "step 1300: train loss 2.0246, val loss 2.0646\n",
      "step 1400: train loss 1.9936, val loss 2.0371\n",
      "step 1500: train loss 1.9720, val loss 2.0318\n",
      "step 1600: train loss 1.9629, val loss 2.0479\n",
      "step 1700: train loss 1.9422, val loss 2.0139\n",
      "step 1800: train loss 1.9096, val loss 1.9963\n",
      "step 1900: train loss 1.9080, val loss 1.9884\n",
      "step 2000: train loss 1.8837, val loss 1.9943\n",
      "step 2100: train loss 1.8713, val loss 1.9749\n",
      "step 2200: train loss 1.8587, val loss 1.9602\n",
      "step 2300: train loss 1.8584, val loss 1.9554\n",
      "step 2400: train loss 1.8422, val loss 1.9460\n",
      "step 2500: train loss 1.8152, val loss 1.9416\n",
      "step 2600: train loss 1.8246, val loss 1.9368\n",
      "step 2700: train loss 1.8113, val loss 1.9327\n",
      "step 2800: train loss 1.8044, val loss 1.9223\n",
      "step 2900: train loss 1.8042, val loss 1.9304\n",
      "step 3000: train loss 1.7998, val loss 1.9227\n",
      "step 3100: train loss 1.7688, val loss 1.9179\n",
      "step 3200: train loss 1.7530, val loss 1.9101\n",
      "step 3300: train loss 1.7551, val loss 1.9056\n",
      "step 3400: train loss 1.7530, val loss 1.8926\n",
      "step 3500: train loss 1.7357, val loss 1.8935\n",
      "step 3600: train loss 1.7269, val loss 1.8916\n",
      "step 3700: train loss 1.7264, val loss 1.8807\n",
      "step 3800: train loss 1.7180, val loss 1.8912\n",
      "step 3900: train loss 1.7216, val loss 1.8746\n",
      "step 4000: train loss 1.7148, val loss 1.8631\n",
      "step 4100: train loss 1.7123, val loss 1.8741\n",
      "step 4200: train loss 1.7048, val loss 1.8664\n",
      "step 4300: train loss 1.6980, val loss 1.8442\n",
      "step 4400: train loss 1.7066, val loss 1.8649\n",
      "step 4500: train loss 1.6854, val loss 1.8452\n",
      "step 4600: train loss 1.6888, val loss 1.8389\n",
      "step 4700: train loss 1.6838, val loss 1.8442\n",
      "step 4800: train loss 1.6637, val loss 1.8420\n",
      "step 4900: train loss 1.6671, val loss 1.8364\n",
      "step 4999: train loss 1.6631, val loss 1.8253\n",
      "\n",
      "Flies.\n",
      "Why, the have hudy to\n",
      "Twiter arts the muscue: I mile\n",
      "Your TI sea it; and says, and for one that I have of this Matritight.\n",
      "\n",
      "CORIOLANUS:\n",
      "Well, them not, metrieds thou shall diesty rege;\n",
      "Was way is your name Borry eyre the give bagener at, though it my mily.\n",
      "\n",
      "POF AUMKERLANE:\n",
      "Upass:\n",
      "You uow to, shide spost I vour I man? this world sappy:\n",
      "Un in agarte is woffacer time in may.\n",
      "\n",
      "BENVOLIO:\n",
      "A thas now, stold's bewis'd your.\n",
      "\n",
      "TRATCLAREY:\n",
      "Shall\n",
      "My sworn march, farwit,\n",
      "As cousinst: I state, those make me,\n",
      "And fliess, why his my wontly all\n",
      "my nourt all upon entrram, that not\n",
      "Is apon arth,\n",
      "Her me and why compor?'\n",
      "\n",
      "EDWORDIUS:\n",
      "If your tarrue wells\n",
      "As but hast thou beatl now thirge:\n",
      "It widl-sweet you, I'll brieing like a bettly dreeness of Tyberrought thou thront,\n",
      "Als troarish, I id I knom her\n",
      "Where promile. HaNY we lase; my not thou\n",
      "It that rige son!\n",
      "Thee will, contate lips and my lours\n",
      "What mineback he is all that tho sofors of that not,\n",
      "Fhe what I stray mity whre sting,\n",
      "that the with thou art noby for and neer too that.\n",
      "\n",
      "PAUS:\n",
      "I have make in:\n",
      "I now, by tongue will be in him stals them 'ngrievent,\n",
      "For the her skvalstes forther. jubott you would do his duke.\n",
      "\n",
      "DUKE VINCENTIO:\n",
      "But, I am in his not I adve libe;\n",
      "It that gentrange well-sweet the flightend alwh it sposse it.\n",
      "\n",
      "QUEEN VI:\n",
      "Of the seeprone slands you great?\n",
      "I shalk I shortcuse, for this glied.\n",
      "The soul; to men vanty lieht. Murst; of us Very wilth here. And while the worth,\n",
      "Erre parence Edwift a thougharted?\n",
      "\n",
      "POMPEY:\n",
      "O, for not,--I wheep, i'\n",
      "Hard I deat bechman:\n",
      "But it confair pedwered the were have of thus\n",
      "Occlf, where 'twonder: stay or\n",
      "his by father; Sirstizy houth this selear?\n",
      "Themself in thy settry hours sappurt,\n",
      "For is Henry to have theis they as I\n",
      "hangine, fathal Very toweful, I spire of I that yie I knounge\n",
      "And the warly and star tale me; treaking purteas!\n",
      "\n",
      "CLouFIDIUS:\n",
      "Withon, I'll requanny, of the heavy mote.\n",
      "\n",
      "VORIOLE:\n",
      "Roman: we steep, thus mecriison toO,\n",
      "Then the touch mess, I Let hath a minder.\n",
      "\n",
      "BUCKINGERLIAR\n"
     ]
    }
   ],
   "source": [
    "import torch\n",
    "import torch.nn as nn\n",
    "from torch.nn import functional as F\n",
    "\n",
    "# hyperparameters\n",
    "batch_size = 16 # how many independent sequences will we process in parallel?\n",
    "block_size = 32 # what is the maximum context length for predictions?\n",
    "max_iters = 5000\n",
    "eval_interval = 100\n",
    "learning_rate = 1e-3\n",
    "device = 'cuda' if torch.cuda.is_available() else 'cpu'\n",
    "eval_iters = 200\n",
    "n_embd = 64\n",
    "n_head = 4\n",
    "n_layer = 4\n",
    "dropout = 0.0\n",
    "# ------------\n",
    "\n",
    "torch.manual_seed(1337)\n",
    "\n",
    "# wget https://raw.githubusercontent.com/karpathy/char-rnn/master/data/tinyshakespeare/input.txt\n",
    "with open('input.txt', 'r', encoding='utf-8') as f:\n",
    "    text = f.read()\n",
    "\n",
    "# here are all the unique characters that occur in this text\n",
    "chars = sorted(list(set(text)))\n",
    "vocab_size = len(chars)\n",
    "# create a mapping from characters to integers\n",
    "stoi = { ch:i for i,ch in enumerate(chars) }\n",
    "itos = { i:ch for i,ch in enumerate(chars) }\n",
    "encode = lambda s: [stoi[c] for c in s] # encoder: take a string, output a list of integers\n",
    "decode = lambda l: ''.join([itos[i] for i in l]) # decoder: take a list of integers, output a string\n",
    "\n",
    "# Train and test splits\n",
    "data = torch.tensor(encode(text), dtype=torch.long)\n",
    "n = int(0.9*len(data)) # first 90% will be train, rest val\n",
    "train_data = data[:n]\n",
    "val_data = data[n:]\n",
    "\n",
    "# data loading\n",
    "def get_batch(split):\n",
    "    # generate a small batch of data of inputs x and targets y\n",
    "    data = train_data if split == 'train' else val_data\n",
    "    ix = torch.randint(len(data) - block_size, (batch_size,))\n",
    "    x = torch.stack([data[i:i+block_size] for i in ix])\n",
    "    y = torch.stack([data[i+1:i+block_size+1] for i in ix])\n",
    "    x, y = x.to(device), y.to(device)\n",
    "    return x, y\n",
    "\n",
    "@torch.no_grad()\n",
    "def estimate_loss():\n",
    "    out = {}\n",
    "    model.eval()\n",
    "    for split in ['train', 'val']:\n",
    "        losses = torch.zeros(eval_iters)\n",
    "        for k in range(eval_iters):\n",
    "            X, Y = get_batch(split)\n",
    "            logits, loss = model(X, Y)\n",
    "            losses[k] = loss.item()\n",
    "        out[split] = losses.mean()\n",
    "    model.train()\n",
    "    return out\n",
    "\n",
    "class Head(nn.Module):\n",
    "    \"\"\" one head of self-attention \"\"\"\n",
    "\n",
    "    def __init__(self, head_size):\n",
    "        super().__init__()\n",
    "        self.key = nn.Linear(n_embd, head_size, bias=False)\n",
    "        self.query = nn.Linear(n_embd, head_size, bias=False)\n",
    "        self.value = nn.Linear(n_embd, head_size, bias=False)\n",
    "        self.register_buffer('tril', torch.tril(torch.ones(block_size, block_size)))\n",
    "\n",
    "        self.dropout = nn.Dropout(dropout)\n",
    "\n",
    "    def forward(self, x):\n",
    "        B,T,C = x.shape\n",
    "        k = self.key(x)   # (B,T,C)\n",
    "        q = self.query(x) # (B,T,C)\n",
    "        # compute attention scores (\"affinities\")\n",
    "        wei = q @ k.transpose(-2,-1) * C**-0.5 # (B, T, C) @ (B, C, T) -> (B, T, T)\n",
    "        wei = wei.masked_fill(self.tril[:T, :T] == 0, float('-inf')) # (B, T, T)\n",
    "        wei = F.softmax(wei, dim=-1) # (B, T, T)\n",
    "        wei = self.dropout(wei)\n",
    "        # perform the weighted aggregation of the values\n",
    "        v = self.value(x) # (B,T,C)\n",
    "        out = wei @ v # (B, T, T) @ (B, T, C) -> (B, T, C)\n",
    "        return out\n",
    "\n",
    "class MultiHeadAttention(nn.Module):\n",
    "    \"\"\" multiple heads of self-attention in parallel \"\"\"\n",
    "\n",
    "    def __init__(self, num_heads, head_size):\n",
    "        super().__init__()\n",
    "        self.heads = nn.ModuleList([Head(head_size) for _ in range(num_heads)])\n",
    "        self.proj = nn.Linear(n_embd, n_embd)\n",
    "        self.dropout = nn.Dropout(dropout)\n",
    "\n",
    "    def forward(self, x):\n",
    "        out = torch.cat([h(x) for h in self.heads], dim=-1)\n",
    "        out = self.dropout(self.proj(out))\n",
    "        return out\n",
    "\n",
    "class FeedFoward(nn.Module):\n",
    "    \"\"\" a simple linear layer followed by a non-linearity \"\"\"\n",
    "\n",
    "    def __init__(self, n_embd):\n",
    "        super().__init__()\n",
    "        self.net = nn.Sequential(\n",
    "            nn.Linear(n_embd, 4 * n_embd),\n",
    "            nn.ReLU(),\n",
    "            nn.Linear(4 * n_embd, n_embd),\n",
    "            nn.Dropout(dropout),\n",
    "        )\n",
    "\n",
    "    def forward(self, x):\n",
    "        return self.net(x)\n",
    "\n",
    "class Block(nn.Module):\n",
    "    \"\"\" Transformer block: communication followed by computation \"\"\"\n",
    "\n",
    "    def __init__(self, n_embd, n_head):\n",
    "        # n_embd: embedding dimension, n_head: the number of heads we'd like\n",
    "        super().__init__()\n",
    "        head_size = n_embd // n_head\n",
    "        self.sa = MultiHeadAttention(n_head, head_size)\n",
    "        self.ffwd = FeedFoward(n_embd)\n",
    "        self.ln1 = nn.LayerNorm(n_embd)\n",
    "        self.ln2 = nn.LayerNorm(n_embd)\n",
    "\n",
    "    def forward(self, x):\n",
    "        x = x + self.sa(self.ln1(x))\n",
    "        x = x + self.ffwd(self.ln2(x))\n",
    "        return x\n",
    "\n",
    "# super simple bigram model\n",
    "class BigramLanguageModel(nn.Module):\n",
    "\n",
    "    def __init__(self):\n",
    "        super().__init__()\n",
    "        # each token directly reads off the logits for the next token from a lookup table\n",
    "        self.token_embedding_table = nn.Embedding(vocab_size, n_embd)\n",
    "        self.position_embedding_table = nn.Embedding(block_size, n_embd)\n",
    "        self.blocks = nn.Sequential(*[Block(n_embd, n_head=n_head) for _ in range(n_layer)])\n",
    "        self.ln_f = nn.LayerNorm(n_embd) # final layer norm\n",
    "        self.lm_head = nn.Linear(n_embd, vocab_size)\n",
    "\n",
    "    def forward(self, idx, targets=None):\n",
    "        B, T = idx.shape\n",
    "\n",
    "        # idx and targets are both (B,T) tensor of integers\n",
    "        tok_emb = self.token_embedding_table(idx) # (B,T,C)\n",
    "        pos_emb = self.position_embedding_table(torch.arange(T, device=device)) # (T,C)\n",
    "        x = tok_emb + pos_emb # (B,T,C)\n",
    "        x = self.blocks(x) # (B,T,C)\n",
    "        x = self.ln_f(x) # (B,T,C)\n",
    "        logits = self.lm_head(x) # (B,T,vocab_size)\n",
    "\n",
    "        if targets is None:\n",
    "            loss = None\n",
    "        else:\n",
    "            B, T, C = logits.shape\n",
    "            logits = logits.view(B*T, C)\n",
    "            targets = targets.view(B*T)\n",
    "            loss = F.cross_entropy(logits, targets)\n",
    "\n",
    "        return logits, loss\n",
    "\n",
    "    def generate(self, idx, max_new_tokens):\n",
    "        # idx is (B, T) array of indices in the current context\n",
    "        for _ in range(max_new_tokens):\n",
    "            # crop idx to the last block_size tokens\n",
    "            idx_cond = idx[:, -block_size:]\n",
    "            # get the predictions\n",
    "            logits, loss = self(idx_cond)\n",
    "            # focus only on the last time step\n",
    "            logits = logits[:, -1, :] # becomes (B, C)\n",
    "            # apply softmax to get probabilities\n",
    "            probs = F.softmax(logits, dim=-1) # (B, C)\n",
    "            # sample from the distribution\n",
    "            idx_next = torch.multinomial(probs, num_samples=1) # (B, 1)\n",
    "            # append sampled index to the running sequence\n",
    "            idx = torch.cat((idx, idx_next), dim=1) # (B, T+1)\n",
    "        return idx\n",
    "\n",
    "model = BigramLanguageModel()\n",
    "m = model.to(device)\n",
    "# print the number of parameters in the model\n",
    "print(sum(p.numel() for p in m.parameters())/1e6, 'M parameters')\n",
    "\n",
    "# create a PyTorch optimizer\n",
    "optimizer = torch.optim.AdamW(model.parameters(), lr=learning_rate)\n",
    "\n",
    "for iter in range(max_iters):\n",
    "\n",
    "    # every once in a while evaluate the loss on train and val sets\n",
    "    if iter % eval_interval == 0 or iter == max_iters - 1:\n",
    "        losses = estimate_loss()\n",
    "        print(f\"step {iter}: train loss {losses['train']:.4f}, val loss {losses['val']:.4f}\")\n",
    "\n",
    "    # sample a batch of data\n",
    "    xb, yb = get_batch('train')\n",
    "\n",
    "    # evaluate the loss\n",
    "    logits, loss = model(xb, yb)\n",
    "    optimizer.zero_grad(set_to_none=True)\n",
    "    loss.backward()\n",
    "    optimizer.step()\n",
    "\n",
    "# generate from the model\n",
    "context = torch.zeros((1, 1), dtype=torch.long, device=device)\n",
    "print(decode(m.generate(context, max_new_tokens=2000)[0].tolist()))\n"
   ]
  }
 ],
 "metadata": {
  "kernelspec": {
   "display_name": "Python 3 (ipykernel)",
   "language": "python",
   "name": "python3"
  },
  "language_info": {
   "codemirror_mode": {
    "name": "ipython",
    "version": 3
   },
   "file_extension": ".py",
   "mimetype": "text/x-python",
   "name": "python",
   "nbconvert_exporter": "python",
   "pygments_lexer": "ipython3",
   "version": "3.9.20"
  }
 },
 "nbformat": 4,
 "nbformat_minor": 5
}
