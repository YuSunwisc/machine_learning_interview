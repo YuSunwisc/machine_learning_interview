{
 "cells": [
  {
   "cell_type": "code",
   "execution_count": 10,
   "id": "0010d1c8-0dd9-45f7-892a-92d40b4e70e4",
   "metadata": {},
   "outputs": [
    {
     "data": {
      "text/plain": [
       "'2.5.1'"
      ]
     },
     "execution_count": 10,
     "metadata": {},
     "output_type": "execute_result"
    }
   ],
   "source": [
    "import torch\n",
    "torch.__version__"
   ]
  },
  {
   "cell_type": "markdown",
   "id": "d4049210-253d-4fa0-beb9-8e236396a594",
   "metadata": {},
   "source": [
    "# magic method"
   ]
  },
  {
   "cell_type": "code",
   "execution_count": 11,
   "id": "80cab325-6568-4cbb-af49-a572ba76883d",
   "metadata": {},
   "outputs": [
    {
     "name": "stdout",
     "output_type": "stream",
     "text": [
      "285 ns ± 2.34 ns per loop (mean ± std. dev. of 7 runs, 1,000,000 loops each)\n"
     ]
    }
   ],
   "source": [
    "%%timeit\n",
    "a = []\n",
    "for i in range(10):\n",
    "    a.append(i)\n"
   ]
  },
  {
   "cell_type": "code",
   "execution_count": 12,
   "id": "c7fb40f5-5762-4041-a471-430dce2456f7",
   "metadata": {},
   "outputs": [
    {
     "data": {
      "text/plain": [
       "'/Users/YuSun/anaconda3/envs/pytorch/bin:/Users/YuSun/anaconda3/condabin:/usr/local/bin:/System/Cryptexes/App/usr/bin:/usr/bin:/bin:/usr/sbin:/sbin:/var/run/com.apple.security.cryptexd/codex.system/bootstrap/usr/local/bin:/var/run/com.apple.security.cryptexd/codex.system/bootstrap/usr/bin:/var/run/com.apple.security.cryptexd/codex.system/bootstrap/usr/appleinternal/bin:/opt/X11/bin:/Library/TeX/texbin'"
      ]
     },
     "execution_count": 12,
     "metadata": {},
     "output_type": "execute_result"
    }
   ],
   "source": [
    "%env PATH"
   ]
  },
  {
   "cell_type": "code",
   "execution_count": 13,
   "id": "11f91c84-8607-40e1-a4ed-fe2e56850293",
   "metadata": {},
   "outputs": [
    {
     "name": "stdout",
     "output_type": "stream",
     "text": [
      "Successfually import all packages!\n"
     ]
    }
   ],
   "source": [
    "import time\n",
    "import torch\n",
    "import numpy as np\n",
    "from torchvision import models\n",
    "\n",
    "print(\"Successfually import all packages!\")"
   ]
  },
  {
   "cell_type": "code",
   "execution_count": 14,
   "id": "10b71a69-6fd9-4403-9f27-eff6e834a217",
   "metadata": {},
   "outputs": [
    {
     "name": "stdout",
     "output_type": "stream",
     "text": [
      "Done\n"
     ]
    }
   ],
   "source": [
    "# All different torch.compile modes\n",
    "mode_list = \"default reduce-overhead max-autotune\".split()\n",
    "device = torch.device(\"cuda\" if torch.cuda.is_available() else \"cpu\")\n",
    "print(\"Done\")"
   ]
  },
  {
   "cell_type": "markdown",
   "id": "fbde52e7-b49b-4824-9b6f-62157f3760c8",
   "metadata": {},
   "source": [
    "# 实验一：sin函数"
   ]
  },
  {
   "cell_type": "code",
   "execution_count": null,
   "id": "eb6b4b9c-860e-46af-b03f-68315893b135",
   "metadata": {},
   "outputs": [],
   "source": [
    "def sin_func(x):\n",
    "    return torch.sin(x) + torch.cos(x)\n",
    "\n",
    "run_times = 100000\n",
    "i_data = torch.tensor(1).to(device)\n",
    "for mode in mode_list:\n",
    "    torch.cuda.synchronize()\n",
    "    time_0 = time.time()\n",
    "    module_compiled = torch.compile(sin_func, mode=mode)\n",
    "    torch.cuda.synchronize()\n",
    "    time_1 = time.time()\n",
    "    \n",
    "    # warmup\n",
    "    sin_func(i_data)\n",
    "    module_compiled(i_data)\n",
    "    \n",
    "    torch.cuda.synchronize()\n",
    "    time_2 = time.time()\n",
    "    for i in range(run_times):\n",
    "        sin_func(i_data)\n",
    "        \n",
    "    torch.cuda.synchronize()\n",
    "    time_3 = time.time()\n",
    "    for i in range(run_times):\n",
    "        module_compiled(i_data)\n",
    "    torch.cuda.synchronize()\n",
    "    time_4 = time.time()\n",
    "    \n",
    "    compile_time = time_1 - time_0\n",
    "    pre_time = time_3 - time_2\n",
    "    post_time = time_4 - time_3\n",
    "    speedup_ratio = (pre_time - post_time)/pre_time\n",
    "    \n",
    "    print(f\"mode: {mode}, 编译耗时:{compile_time:.2f}，编译前运行耗时:{pre_time:.2f}, 编译后运行耗时:{post_time:.2f}，速度提升比例:{speedup_ratio:.2%}\")\n",
    "    "
   ]
  },
  {
   "cell_type": "markdown",
   "id": "190e85a1-1017-4e07-bd4c-5cdfb3e867e9",
   "metadata": {},
   "source": [
    "# 实验二：resnet18b"
   ]
  },
  {
   "cell_type": "code",
   "execution_count": 23,
   "id": "7d3fd7b9-4b4e-40a8-9b32-ff5837cc0f9f",
   "metadata": {},
   "outputs": [],
   "source": [
    "resnet18 = models.resnet18().to(device)\n",
    "resnet18.eval()\n",
    "fake_img = torch.randn(16, 3, 224, 224).to(device)"
   ]
  },
  {
   "cell_type": "code",
   "execution_count": null,
   "id": "dde33484-9cc6-418f-87d3-600e945cbeed",
   "metadata": {},
   "outputs": [],
   "source": [
    "run_times = 100\n",
    "with torch.no_grad():\n",
    "    for mode in mode_list:\n",
    "        torch.cuda.synchronize()\n",
    "        time_0 = time.time()\n",
    "        module_compiled = torch.compile(resnet18, mode=mode)\n",
    "        torch.cuda.synchronize()\n",
    "        time_1 = time.time()\n",
    "        \n",
    "        # warmup 非常关键！\n",
    "        resnet18(fake_img)\n",
    "        module_compiled(fake_img)\n",
    "        \n",
    "        #\n",
    "        torch.cuda.synchronize()\n",
    "        time_2 = time.time()\n",
    "        for i in range(run_times):\n",
    "            resnet18(fake_img)\n",
    "        \n",
    "        torch.cuda.synchronize()\n",
    "        time_3 = time.time()\n",
    "        for i in range(run_times):\n",
    "            module_compiled(fake_img)\n",
    "        \n",
    "        torch.cuda.synchronize()\n",
    "        time_4 = time.time()\n",
    "\n",
    "        compile_time = time_1 - time_0\n",
    "        pre_time = time_3 - time_2\n",
    "        post_time = time_4 - time_3\n",
    "        speedup_ratio = (pre_time - post_time)/pre_time\n",
    "\n",
    "        print(f\"mode: {mode}, 编译耗时:{compile_time:.2f}，编译前运行耗时:{pre_time:.2f}, 编译后运行耗时:{post_time:.2f}，速度提升比例:{speedup_ratio:.2%}\")"
   ]
  },
  {
   "cell_type": "markdown",
   "id": "49e9d08a-b029-4ad9-80a6-7f9e8f484d7a",
   "metadata": {},
   "source": [
    "# 实验三：BERT"
   ]
  },
  {
   "cell_type": "code",
   "execution_count": null,
   "id": "e90680b6-3011-4b05-9a05-2dae6c28aa32",
   "metadata": {},
   "outputs": [],
   "source": [
    "from transformers import BertModel, BertTokenizer\n",
    "import time\n",
    "\n",
    "bert = BertModel.from_pretrained('bert-base-uncased')\n",
    "tokenizer = BertTokenizer.from_pretrained('bert-base-uncased')"
   ]
  },
  {
   "cell_type": "code",
   "execution_count": null,
   "id": "84292859-5a87-43ce-be05-25df745ae3cf",
   "metadata": {},
   "outputs": [],
   "source": [
    "# 准备一批输入数据\n",
    "input_text = \"Here is some text to encode\"\n",
    "inputs = tokenizer(input_text, return_tensors='pt', padding=True, truncation=True)\n",
    "inputs = {k: v.to(device) for k, v in inputs.items()}\n",
    "bert.to(device)\n",
    "bert.eval()\n",
    "\n",
    "run_times = 100\n",
    "with torch.no_grad():\n",
    "    for mode in mode_list:\n",
    "        \n",
    "        # 编译\n",
    "        torch.cuda.synchronize()\n",
    "        time_0 = time.time()\n",
    "        bert_compiled = torch.compile(bert, mode=mode)\n",
    "        torch.cuda.synchronize()\n",
    "        time_1 = time.time()\n",
    "        \n",
    "        # warmup 非常关键！\n",
    "        bert(**inputs)\n",
    "        bert_compiled(**inputs)\n",
    "\n",
    "        torch.cuda.synchronize()\n",
    "        time_2= time.time()\n",
    "        for _ in range(run_times): \n",
    "            _ = bert(**inputs)\n",
    "\n",
    "        torch.cuda.synchronize()\n",
    "        time_3= time.time()\n",
    "        for _ in range(run_times):\n",
    "            _ = bert_compiled(**inputs)\n",
    "        \n",
    "        torch.cuda.synchronize()\n",
    "        time_4= time.time()\n",
    "        \n",
    "        compile_time = time_1 - time_0\n",
    "        pre_time = time_3 - time_2\n",
    "        post_time = time_4 - time_3\n",
    "        speedup_ratio = (pre_time - post_time)/pre_time\n",
    "        \n",
    "        \n",
    "        print(f\"mode: {mode}, 编译耗时:{compile_time:.2f}，编译前运行耗时:{pre_time:.2f}, 编译后运行耗时:{post_time:.2f}，速度提升比例:{speedup_ratio:.2%}\")"
   ]
  },
  {
   "cell_type": "markdown",
   "id": "b1745a08-3ccc-4e87-8e8a-17b006a0f9f5",
   "metadata": {},
   "source": [
    "# 实验四 numpy"
   ]
  },
  {
   "cell_type": "code",
   "execution_count": null,
   "id": "a70f1ede-eb3c-404d-a548-2ab2d222dc4d",
   "metadata": {},
   "outputs": [],
   "source": [
    "run_times = 100\n",
    "\n",
    "def numpy_fn2(X: np.ndarray, Y: np.ndarray) -> np.ndarray:\n",
    "    return np.sum(X[:, :, None] * Y[:, None, :], axis=(-2, -1))\n",
    "\n",
    "def numpy_fn(X: np.ndarray, Y: np.ndarray) -> np.ndarray:\n",
    "    # Step 1: Normalize the input arrays to have zero mean and unit variance\n",
    "    X_mean, X_std = X.mean(axis=0), X.std(axis=0)\n",
    "    Y_mean, Y_std = Y.mean(axis=0), Y.std(axis=0)\n",
    "    \n",
    "    # Avoid division by zero in case of zero standard deviation\n",
    "    X_std[X_std == 0] = 1\n",
    "    Y_std[Y_std == 0] = 1\n",
    "    \n",
    "    X_normalized = (X - X_mean) / X_std\n",
    "    Y_normalized = (Y - Y_mean) / Y_std\n",
    "    \n",
    "    # Step 2: Perform the tensor product followed by sum over last two dimensions\n",
    "    intermediate_result = np.sum(X_normalized[:, :, None] * Y_normalized[:, None, :], axis=(-2, -1))\n",
    "    \n",
    "    # Step 3: Apply thresholding to clip values outside of [-1, 1]\n",
    "    intermediate_result = np.clip(intermediate_result, -1, 1)\n",
    "    \n",
    "    # Step 4: Apply exponential function for non-linearity\n",
    "    result = np.exp(intermediate_result)\n",
    "    \n",
    "    # Step 5: Add a small regularization term to avoid overfitting\n",
    "    regularization_term = 0.001 * np.sum(X_normalized ** 2 + Y_normalized ** 2, axis=1)\n",
    "    result += regularization_term\n",
    "    \n",
    "    return result\n",
    "\n",
    "x = np.random.randn(1024, 640)\n",
    "y = np.random.randn(1024, 640)\n",
    "\n",
    "for mode in mode_list:\n",
    "    torch.cuda.synchronize()\n",
    "    time_0 = time.time()\n",
    "    numpy_fn_compiled = torch.compile(numpy_fn, mode=mode)\n",
    "    torch.cuda.synchronize()\n",
    "    time_1 = time.time()\n",
    "\n",
    "    # warmup 非常关键！\n",
    "    numpy_fn(x, y)\n",
    "    numpy_fn_compiled(x, y)\n",
    "\n",
    "    #\n",
    "    torch.cuda.synchronize()\n",
    "    time_2 = time.time()\n",
    "    for i in range(run_times):\n",
    "        numpy_fn(x, y)\n",
    "\n",
    "    torch.cuda.synchronize()\n",
    "    time_3 = time.time()\n",
    "    for i in range(run_times):\n",
    "        numpy_fn_compiled(x, y)\n",
    "\n",
    "    torch.cuda.synchronize()\n",
    "    time_4 = time.time()\n",
    "\n",
    "    compile_time = time_1 - time_0\n",
    "    pre_time = time_3 - time_2\n",
    "    post_time = time_4 - time_3\n",
    "    speedup_ratio = (pre_time - post_time)/pre_time\n",
    "\n",
    "    print(f\"mode: {mode}, 编译耗时:{compile_time:.2f}，编译前运行耗时:{pre_time:.2f}, 编译后运行耗时:{post_time:.2f}，速度提升比例:{speedup_ratio:.2%}\")\n"
   ]
  }
 ],
 "metadata": {
  "kernelspec": {
   "display_name": "Python 3 (ipykernel)",
   "language": "python",
   "name": "python3"
  },
  "language_info": {
   "codemirror_mode": {
    "name": "ipython",
    "version": 3
   },
   "file_extension": ".py",
   "mimetype": "text/x-python",
   "name": "python",
   "nbconvert_exporter": "python",
   "pygments_lexer": "ipython3",
   "version": "3.9.20"
  }
 },
 "nbformat": 4,
 "nbformat_minor": 5
}
